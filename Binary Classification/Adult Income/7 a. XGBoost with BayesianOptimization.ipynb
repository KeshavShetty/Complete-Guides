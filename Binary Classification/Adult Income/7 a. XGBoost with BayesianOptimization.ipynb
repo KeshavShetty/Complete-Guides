{
 "cells": [
  {
   "cell_type": "markdown",
   "metadata": {},
   "source": [
    "# Refer https://www.analyticsindiamag.com/implementing-bayesian-optimization-on-xgboost-a-beginners-guide/"
   ]
  },
  {
   "cell_type": "code",
   "execution_count": 2,
   "metadata": {},
   "outputs": [],
   "source": [
    "import numpy as np\n",
    "import pandas as pd\n",
    "\n",
    "import matplotlib.pyplot as plt\n",
    "\n",
    "from KUtils.eda import chartil\n",
    "\n",
    "from xgboost.sklearn import XGBClassifier\n",
    "\n",
    "\n",
    "from sklearn.model_selection import train_test_split\n",
    "from sklearn import preprocessing\n",
    "\n",
    "from sklearn.model_selection import KFold\n",
    "from sklearn.model_selection import GridSearchCV\n",
    "\n",
    "from sklearn import metrics\n",
    "from sklearn.metrics import classification_report, confusion_matrix, accuracy_score, make_scorer, recall_score, precision_score"
   ]
  },
  {
   "cell_type": "code",
   "execution_count": 3,
   "metadata": {},
   "outputs": [],
   "source": [
    "adult_income_df = pd.read_csv('cleaned.csv')"
   ]
  },
  {
   "cell_type": "code",
   "execution_count": 4,
   "metadata": {},
   "outputs": [
    {
     "data": {
      "text/html": [
       "<div>\n",
       "<style scoped>\n",
       "    .dataframe tbody tr th:only-of-type {\n",
       "        vertical-align: middle;\n",
       "    }\n",
       "\n",
       "    .dataframe tbody tr th {\n",
       "        vertical-align: top;\n",
       "    }\n",
       "\n",
       "    .dataframe thead th {\n",
       "        text-align: right;\n",
       "    }\n",
       "</style>\n",
       "<table border=\"1\" class=\"dataframe\">\n",
       "  <thead>\n",
       "    <tr style=\"text-align: right;\">\n",
       "      <th></th>\n",
       "      <th>age</th>\n",
       "      <th>fnlwgt</th>\n",
       "      <th>education-num</th>\n",
       "      <th>capital-gain</th>\n",
       "      <th>capital-loss</th>\n",
       "      <th>hours-per-week</th>\n",
       "      <th>workclass</th>\n",
       "      <th>education</th>\n",
       "      <th>marital-status</th>\n",
       "      <th>occupation</th>\n",
       "      <th>relationship</th>\n",
       "      <th>race</th>\n",
       "      <th>sex</th>\n",
       "      <th>native-country</th>\n",
       "      <th>target</th>\n",
       "    </tr>\n",
       "  </thead>\n",
       "  <tbody>\n",
       "    <tr>\n",
       "      <th>0</th>\n",
       "      <td>39</td>\n",
       "      <td>11.258240</td>\n",
       "      <td>13</td>\n",
       "      <td>2174</td>\n",
       "      <td>0</td>\n",
       "      <td>40</td>\n",
       "      <td>5</td>\n",
       "      <td>9</td>\n",
       "      <td>4</td>\n",
       "      <td>0</td>\n",
       "      <td>1</td>\n",
       "      <td>4</td>\n",
       "      <td>1</td>\n",
       "      <td>0</td>\n",
       "      <td>0</td>\n",
       "    </tr>\n",
       "    <tr>\n",
       "      <th>1</th>\n",
       "      <td>50</td>\n",
       "      <td>11.330336</td>\n",
       "      <td>13</td>\n",
       "      <td>0</td>\n",
       "      <td>0</td>\n",
       "      <td>13</td>\n",
       "      <td>4</td>\n",
       "      <td>9</td>\n",
       "      <td>2</td>\n",
       "      <td>3</td>\n",
       "      <td>0</td>\n",
       "      <td>4</td>\n",
       "      <td>1</td>\n",
       "      <td>0</td>\n",
       "      <td>0</td>\n",
       "    </tr>\n",
       "    <tr>\n",
       "      <th>2</th>\n",
       "      <td>38</td>\n",
       "      <td>12.281393</td>\n",
       "      <td>9</td>\n",
       "      <td>0</td>\n",
       "      <td>0</td>\n",
       "      <td>40</td>\n",
       "      <td>2</td>\n",
       "      <td>11</td>\n",
       "      <td>0</td>\n",
       "      <td>5</td>\n",
       "      <td>1</td>\n",
       "      <td>4</td>\n",
       "      <td>1</td>\n",
       "      <td>0</td>\n",
       "      <td>0</td>\n",
       "    </tr>\n",
       "    <tr>\n",
       "      <th>3</th>\n",
       "      <td>53</td>\n",
       "      <td>12.366153</td>\n",
       "      <td>7</td>\n",
       "      <td>0</td>\n",
       "      <td>0</td>\n",
       "      <td>40</td>\n",
       "      <td>2</td>\n",
       "      <td>1</td>\n",
       "      <td>2</td>\n",
       "      <td>5</td>\n",
       "      <td>0</td>\n",
       "      <td>2</td>\n",
       "      <td>1</td>\n",
       "      <td>0</td>\n",
       "      <td>0</td>\n",
       "    </tr>\n",
       "    <tr>\n",
       "      <th>4</th>\n",
       "      <td>28</td>\n",
       "      <td>12.732011</td>\n",
       "      <td>13</td>\n",
       "      <td>0</td>\n",
       "      <td>0</td>\n",
       "      <td>40</td>\n",
       "      <td>2</td>\n",
       "      <td>9</td>\n",
       "      <td>2</td>\n",
       "      <td>9</td>\n",
       "      <td>5</td>\n",
       "      <td>2</td>\n",
       "      <td>0</td>\n",
       "      <td>1</td>\n",
       "      <td>0</td>\n",
       "    </tr>\n",
       "    <tr>\n",
       "      <th>5</th>\n",
       "      <td>37</td>\n",
       "      <td>12.558777</td>\n",
       "      <td>14</td>\n",
       "      <td>0</td>\n",
       "      <td>0</td>\n",
       "      <td>40</td>\n",
       "      <td>2</td>\n",
       "      <td>12</td>\n",
       "      <td>2</td>\n",
       "      <td>3</td>\n",
       "      <td>5</td>\n",
       "      <td>4</td>\n",
       "      <td>0</td>\n",
       "      <td>0</td>\n",
       "      <td>0</td>\n",
       "    </tr>\n",
       "    <tr>\n",
       "      <th>6</th>\n",
       "      <td>49</td>\n",
       "      <td>11.984097</td>\n",
       "      <td>5</td>\n",
       "      <td>0</td>\n",
       "      <td>0</td>\n",
       "      <td>16</td>\n",
       "      <td>2</td>\n",
       "      <td>6</td>\n",
       "      <td>3</td>\n",
       "      <td>7</td>\n",
       "      <td>1</td>\n",
       "      <td>2</td>\n",
       "      <td>0</td>\n",
       "      <td>1</td>\n",
       "      <td>0</td>\n",
       "    </tr>\n",
       "    <tr>\n",
       "      <th>7</th>\n",
       "      <td>52</td>\n",
       "      <td>12.253157</td>\n",
       "      <td>9</td>\n",
       "      <td>0</td>\n",
       "      <td>0</td>\n",
       "      <td>45</td>\n",
       "      <td>4</td>\n",
       "      <td>11</td>\n",
       "      <td>2</td>\n",
       "      <td>3</td>\n",
       "      <td>0</td>\n",
       "      <td>4</td>\n",
       "      <td>1</td>\n",
       "      <td>0</td>\n",
       "      <td>1</td>\n",
       "    </tr>\n",
       "    <tr>\n",
       "      <th>8</th>\n",
       "      <td>31</td>\n",
       "      <td>10.731624</td>\n",
       "      <td>14</td>\n",
       "      <td>14084</td>\n",
       "      <td>0</td>\n",
       "      <td>50</td>\n",
       "      <td>2</td>\n",
       "      <td>12</td>\n",
       "      <td>4</td>\n",
       "      <td>9</td>\n",
       "      <td>1</td>\n",
       "      <td>4</td>\n",
       "      <td>0</td>\n",
       "      <td>0</td>\n",
       "      <td>1</td>\n",
       "    </tr>\n",
       "    <tr>\n",
       "      <th>9</th>\n",
       "      <td>42</td>\n",
       "      <td>11.979479</td>\n",
       "      <td>13</td>\n",
       "      <td>5178</td>\n",
       "      <td>0</td>\n",
       "      <td>40</td>\n",
       "      <td>2</td>\n",
       "      <td>9</td>\n",
       "      <td>2</td>\n",
       "      <td>3</td>\n",
       "      <td>0</td>\n",
       "      <td>4</td>\n",
       "      <td>1</td>\n",
       "      <td>0</td>\n",
       "      <td>1</td>\n",
       "    </tr>\n",
       "  </tbody>\n",
       "</table>\n",
       "</div>"
      ],
      "text/plain": [
       "   age     fnlwgt  education-num  capital-gain  capital-loss  hours-per-week  \\\n",
       "0   39  11.258240             13          2174             0              40   \n",
       "1   50  11.330336             13             0             0              13   \n",
       "2   38  12.281393              9             0             0              40   \n",
       "3   53  12.366153              7             0             0              40   \n",
       "4   28  12.732011             13             0             0              40   \n",
       "5   37  12.558777             14             0             0              40   \n",
       "6   49  11.984097              5             0             0              16   \n",
       "7   52  12.253157              9             0             0              45   \n",
       "8   31  10.731624             14         14084             0              50   \n",
       "9   42  11.979479             13          5178             0              40   \n",
       "\n",
       "   workclass  education  marital-status  occupation  relationship  race  sex  \\\n",
       "0          5          9               4           0             1     4    1   \n",
       "1          4          9               2           3             0     4    1   \n",
       "2          2         11               0           5             1     4    1   \n",
       "3          2          1               2           5             0     2    1   \n",
       "4          2          9               2           9             5     2    0   \n",
       "5          2         12               2           3             5     4    0   \n",
       "6          2          6               3           7             1     2    0   \n",
       "7          4         11               2           3             0     4    1   \n",
       "8          2         12               4           9             1     4    0   \n",
       "9          2          9               2           3             0     4    1   \n",
       "\n",
       "   native-country  target  \n",
       "0               0       0  \n",
       "1               0       0  \n",
       "2               0       0  \n",
       "3               0       0  \n",
       "4               1       0  \n",
       "5               0       0  \n",
       "6               1       0  \n",
       "7               0       1  \n",
       "8               0       1  \n",
       "9               0       1  "
      ]
     },
     "execution_count": 4,
     "metadata": {},
     "output_type": "execute_result"
    }
   ],
   "source": [
    "# encode categorical variables using Label Encoder\n",
    "# select all categorical variables\n",
    "df_categorical = adult_income_df.select_dtypes(include=['object'])\n",
    "df_categorical.head()\n",
    "\n",
    "# apply Label encoder to df_categorical\n",
    "le = preprocessing.LabelEncoder()\n",
    "df_categorical = df_categorical.apply(le.fit_transform)\n",
    "df_categorical.head()\n",
    "\n",
    "# concat df_categorical with original df\n",
    "adult_income_df = adult_income_df.drop(df_categorical.columns, axis=1)\n",
    "adult_income_df = pd.concat([adult_income_df, df_categorical], axis=1)\n",
    "adult_income_df.head(10)"
   ]
  },
  {
   "cell_type": "code",
   "execution_count": 5,
   "metadata": {},
   "outputs": [
    {
     "name": "stderr",
     "output_type": "stream",
     "text": [
      "C:\\Users\\keshav\\Anaconda3\\lib\\site-packages\\sklearn\\preprocessing\\data.py:645: DataConversionWarning: Data with input dtype int64, float64 were all converted to float64 by StandardScaler.\n",
      "  return self.partial_fit(X, y)\n",
      "C:\\Users\\keshav\\Anaconda3\\lib\\site-packages\\sklearn\\base.py:464: DataConversionWarning: Data with input dtype int64, float64 were all converted to float64 by StandardScaler.\n",
      "  return self.fit(X, **fit_params).transform(X)\n"
     ]
    }
   ],
   "source": [
    "from sklearn.preprocessing import StandardScaler\n",
    "numerical_column_names = ['age','fnlwgt','education-num', 'capital-gain', 'capital-loss', 'hours-per-week']\n",
    "scaler = StandardScaler()\n",
    "\n",
    "adult_income_df[numerical_column_names] = scaler.fit_transform(adult_income_df[numerical_column_names])"
   ]
  },
  {
   "cell_type": "code",
   "execution_count": 6,
   "metadata": {},
   "outputs": [],
   "source": [
    "# convert target variable income to categorical\n",
    "adult_income_df['target'] = adult_income_df['target'].astype('category')\n",
    "\n",
    "X = adult_income_df.drop('target', axis=1)\n",
    "y = adult_income_df['target'] \n",
    "\n",
    "X_train, X_test, y_train, y_test = train_test_split(X, y, train_size=0.7, test_size=0.3, random_state=43)"
   ]
  },
  {
   "cell_type": "code",
   "execution_count": 7,
   "metadata": {},
   "outputs": [],
   "source": [
    " from bayes_opt import BayesianOptimization"
   ]
  },
  {
   "cell_type": "code",
   "execution_count": 8,
   "metadata": {},
   "outputs": [],
   "source": [
    " import xgboost as xgb"
   ]
  },
  {
   "cell_type": "code",
   "execution_count": 9,
   "metadata": {},
   "outputs": [
    {
     "name": "stderr",
     "output_type": "stream",
     "text": [
      "C:\\Users\\keshav\\Anaconda3\\lib\\site-packages\\xgboost\\core.py:587: FutureWarning: Series.base is deprecated and will be removed in a future version\n",
      "  if getattr(data, 'base', None) is not None and \\\n"
     ]
    }
   ],
   "source": [
    "dtrain = xgb.DMatrix(X_train, label=y_train)"
   ]
  },
  {
   "cell_type": "code",
   "execution_count": 21,
   "metadata": {},
   "outputs": [],
   "source": [
    "def bo_tune_xgb(max_depth, gamma, n_estimators ,learning_rate):\n",
    "    params = {'max_depth': int(max_depth),\n",
    "        'gamma': gamma,\n",
    "        'n_estimators': int(n_estimators),\n",
    "        'learning_rate':learning_rate,\n",
    "        'subsample': 0.8,\n",
    "        'eta': 0.1,\n",
    "        'eval_metric': 'rmse'}\n",
    "    #Cross validating with the specified parameters in 5 folds and 70 iterations\n",
    "    cv_result = xgb.cv(params, dtrain, num_boost_round=70, nfold=5)\n",
    "    #Return the negative RMSE\n",
    "    return -1.0 * cv_result['test-rmse-mean'].iloc[-1]\n",
    "\n",
    "xgb_bo = BayesianOptimization(bo_tune_xgb, {'max_depth': (5, 9),\n",
    "    'gamma': (0, 1),\n",
    "    'learning_rate':(0.5, 0.9),\n",
    "    'n_estimators':(200,500)\n",
    "})"
   ]
  },
  {
   "cell_type": "code",
   "execution_count": 22,
   "metadata": {},
   "outputs": [
    {
     "name": "stdout",
     "output_type": "stream",
     "text": [
      "|   iter    |  target   |   gamma   | learni... | max_depth | n_esti... |\n",
      "-------------------------------------------------------------------------\n",
      "| \u001b[0m 1       \u001b[0m | \u001b[0m-0.3341  \u001b[0m | \u001b[0m 0.5963  \u001b[0m | \u001b[0m 0.7801  \u001b[0m | \u001b[0m 7.467   \u001b[0m | \u001b[0m 205.6   \u001b[0m |\n",
      "| \u001b[95m 2       \u001b[0m | \u001b[95m-0.3244  \u001b[0m | \u001b[95m 0.5558  \u001b[0m | \u001b[95m 0.5424  \u001b[0m | \u001b[95m 7.019   \u001b[0m | \u001b[95m 208.2   \u001b[0m |\n",
      "| \u001b[95m 3       \u001b[0m | \u001b[95m-0.3237  \u001b[0m | \u001b[95m 0.7682  \u001b[0m | \u001b[95m 0.722   \u001b[0m | \u001b[95m 7.855   \u001b[0m | \u001b[95m 380.4   \u001b[0m |\n",
      "| \u001b[0m 4       \u001b[0m | \u001b[0m-0.3398  \u001b[0m | \u001b[0m 0.5181  \u001b[0m | \u001b[0m 0.8441  \u001b[0m | \u001b[0m 6.612   \u001b[0m | \u001b[0m 250.4   \u001b[0m |\n",
      "| \u001b[95m 5       \u001b[0m | \u001b[95m-0.3214  \u001b[0m | \u001b[95m 0.5756  \u001b[0m | \u001b[95m 0.512   \u001b[0m | \u001b[95m 7.935   \u001b[0m | \u001b[95m 282.4   \u001b[0m |\n",
      "| \u001b[0m 6       \u001b[0m | \u001b[0m-0.333   \u001b[0m | \u001b[0m 0.8191  \u001b[0m | \u001b[0m 0.8949  \u001b[0m | \u001b[0m 7.79    \u001b[0m | \u001b[0m 211.2   \u001b[0m |\n",
      "| \u001b[0m 7       \u001b[0m | \u001b[0m-0.3557  \u001b[0m | \u001b[0m 0.2567  \u001b[0m | \u001b[0m 0.6915  \u001b[0m | \u001b[0m 8.822   \u001b[0m | \u001b[0m 440.7   \u001b[0m |\n",
      "| \u001b[95m 8       \u001b[0m | \u001b[95m-0.3149  \u001b[0m | \u001b[95m 0.9513  \u001b[0m | \u001b[95m 0.615   \u001b[0m | \u001b[95m 6.937   \u001b[0m | \u001b[95m 287.2   \u001b[0m |\n",
      "| \u001b[0m 9       \u001b[0m | \u001b[0m-0.3191  \u001b[0m | \u001b[0m 4.289e-1\u001b[0m | \u001b[0m 0.5     \u001b[0m | \u001b[0m 5.0     \u001b[0m | \u001b[0m 500.0   \u001b[0m |\n",
      "| \u001b[0m 10      \u001b[0m | \u001b[0m-0.3191  \u001b[0m | \u001b[0m 0.0     \u001b[0m | \u001b[0m 0.5     \u001b[0m | \u001b[0m 5.0     \u001b[0m | \u001b[0m 331.7   \u001b[0m |\n",
      "| \u001b[0m 11      \u001b[0m | \u001b[0m-0.3194  \u001b[0m | \u001b[0m 0.331   \u001b[0m | \u001b[0m 0.528   \u001b[0m | \u001b[0m 5.01    \u001b[0m | \u001b[0m 296.0   \u001b[0m |\n",
      "| \u001b[0m 12      \u001b[0m | \u001b[0m-0.3155  \u001b[0m | \u001b[0m 0.941   \u001b[0m | \u001b[0m 0.5083  \u001b[0m | \u001b[0m 8.903   \u001b[0m | \u001b[0m 347.2   \u001b[0m |\n",
      "| \u001b[95m 13      \u001b[0m | \u001b[95m-0.3114  \u001b[0m | \u001b[95m 0.9085  \u001b[0m | \u001b[95m 0.5074  \u001b[0m | \u001b[95m 5.077   \u001b[0m | \u001b[95m 217.2   \u001b[0m |\n",
      "=========================================================================\n"
     ]
    }
   ],
   "source": [
    " xgb_bo.maximize(n_iter=5, init_points=8, acq='ei')"
   ]
  },
  {
   "cell_type": "code",
   "execution_count": 25,
   "metadata": {},
   "outputs": [
    {
     "name": "stdout",
     "output_type": "stream",
     "text": [
      "{'gamma': 0.908542802004139, 'learning_rate': 0.5074027424508007, 'max_depth': 5.076518071303925, 'n_estimators': 217.16229720023134}\n"
     ]
    }
   ],
   "source": [
    "#Extracting the best parameters\n",
    "params = xgb_bo.max['params']\n",
    "print(params)"
   ]
  },
  {
   "cell_type": "code",
   "execution_count": 26,
   "metadata": {},
   "outputs": [],
   "source": [
    "#Converting the max_depth and n_estimator values from float to int\n",
    "params['max_depth']= int(params['max_depth'])\n",
    "params['n_estimators']= int(params['n_estimators'])"
   ]
  },
  {
   "cell_type": "code",
   "execution_count": 27,
   "metadata": {},
   "outputs": [
    {
     "name": "stdout",
     "output_type": "stream",
     "text": [
      "{'gamma': 0.908542802004139, 'learning_rate': 0.5074027424508007, 'max_depth': 5, 'n_estimators': 217}\n"
     ]
    }
   ],
   "source": [
    "print(params)"
   ]
  },
  {
   "cell_type": "markdown",
   "metadata": {},
   "source": [
    "# Final model"
   ]
  },
  {
   "cell_type": "code",
   "execution_count": 29,
   "metadata": {},
   "outputs": [],
   "source": [
    "#Initialize an XGBClassifier with the tuned parameters and fit the training data\n",
    "from xgboost import XGBClassifier\n",
    "final_clf = XGBClassifier(**params).fit(X_train, y_train)\n",
    "\n",
    "#predicting for training set\n",
    "y_pred_default = final_clf.predict(X_test)"
   ]
  },
  {
   "cell_type": "code",
   "execution_count": 30,
   "metadata": {},
   "outputs": [
    {
     "name": "stdout",
     "output_type": "stream",
     "text": [
      "              precision    recall  f1-score   support\n",
      "\n",
      "           0       0.90      0.93      0.91      6972\n",
      "           1       0.76      0.67      0.71      2244\n",
      "\n",
      "   micro avg       0.87      0.87      0.87      9216\n",
      "   macro avg       0.83      0.80      0.81      9216\n",
      "weighted avg       0.86      0.87      0.86      9216\n",
      "\n",
      "Confusion Matrix:\n",
      "[[6487  485]\n",
      " [ 742 1502]]\n",
      "\n",
      "Scores:\n",
      " Accuracy 0.867, \n",
      " Sensitivity 0.669, \n",
      " Specificity 0.930, \n",
      " Precision 0.756, \n",
      " Recall 0.669, \n",
      " f1_score 0.710, \n",
      " roc_auc 0.800\n"
     ]
    }
   ],
   "source": [
    "# Printing classification report\n",
    "print(classification_report(y_test, y_pred_default))\n",
    "\n",
    "local_confusion_matrix = metrics.confusion_matrix(y_test, y_pred_default )\n",
    "\n",
    "# Printing confusion matrix and accuracy\n",
    "print('Confusion Matrix:')\n",
    "print(local_confusion_matrix)\n",
    "\n",
    "# Accuracy, precision, recall and f1 score\n",
    "print('\\nScores:')\n",
    "accuracy = metrics.accuracy_score(y_test, y_pred_default)\n",
    "precision = metrics.precision_score(y_test, y_pred_default)\n",
    "recall = metrics.recall_score(y_test, y_pred_default)\n",
    "f1_score = metrics.f1_score(y_test, y_pred_default)\n",
    "roc_auc = metrics.roc_auc_score(y_test, y_pred_default)\n",
    "sensitivity = recall\n",
    "specificity =  local_confusion_matrix[0,0]/(local_confusion_matrix[0,0]+local_confusion_matrix[0,1])\n",
    "print(\" Accuracy {0:.3f}, \\n Sensitivity {1:.3f}, \\n Specificity {2:.3f}, \\n Precision {3:.3f}, \\n Recall {4:.3f}, \\n f1_score {5:.3f}, \\n roc_auc {6:.3f}\".format(\n",
    "    accuracy, sensitivity,specificity, precision,recall,f1_score,roc_auc))"
   ]
  },
  {
   "cell_type": "code",
   "execution_count": 31,
   "metadata": {},
   "outputs": [
    {
     "name": "stdout",
     "output_type": "stream",
     "text": [
      "[0.03483829 0.0132012  0.14267915 0.12793683 0.06174999 0.0261904\n",
      " 0.01835746 0.012716   0.08328697 0.03045967 0.3816645  0.01497343\n",
      " 0.03562996 0.01631612]\n"
     ]
    },
    {
     "data": {
      "image/png": "[encoded data removed]",
      "text/plain": [
       "<Figure size 1152x792 with 1 Axes>"
      ]
     },
     "metadata": {
      "needs_background": "light"
     },
     "output_type": "display_data"
    }
   ],
   "source": [
    "# Feature importance\n",
    "importances = final_clf.feature_importances_\n",
    "print(importances)\n",
    "\n",
    "unique_dict = dict(zip(X_train.columns, importances))\n",
    "\n",
    "chartil.core_barchart_from_series(\n",
    "    pd.Series(unique_dict), \n",
    "    optional_settings={'sort_by_value':True, 'decimal_precision':2}) "
   ]
  },
  {
   "cell_type": "code",
   "execution_count": null,
   "metadata": {},
   "outputs": [],
   "source": []
  }
 ],
 "metadata": {
  "kernelspec": {
   "display_name": "Python 3",
   "language": "python",
   "name": "python3"
  },
  "language_info": {
   "codemirror_mode": {
    "name": "ipython",
    "version": 3
   },
   "file_extension": ".py",
   "mimetype": "text/x-python",
   "name": "python",
   "nbconvert_exporter": "python",
   "pygments_lexer": "ipython3",
   "version": "3.6.8"
  }
 },
 "nbformat": 4,
 "nbformat_minor": 2
}
