{
 "cells": [
  {
   "cell_type": "markdown",
   "metadata": {},
   "source": [
    "# 1. CatBoost\n",
    "Handling categorical variables is a tedious process, especially when you have a large number of such variables. When your categorical variables have too many labels (i.e. they are highly cardinal), performing one-hot-encoding on them exponentially increases the dimensionality and it becomes really difficult to work with the dataset.\n",
    "\n",
    "CatBoost can automatically deal with categorical variables and does not require extensive data preprocessing like other machine learning algorithms. [Here is an article](https://www.analyticsvidhya.com/blog/2017/08/catboost-automated-categorical-data/) that explains CatBoost in detail.\n",
    "\n",
    "-----"
   ]
  },
  {
   "cell_type": "markdown",
   "metadata": {},
   "source": [
    "# 1.1 Parameters\n",
    "\n",
    "    loss_function:\n",
    "        Defines the metric to be used for training.\n",
    "\n",
    "    iterations:\n",
    "        The maximum number of trees that can be built.\n",
    "        The final number of trees may be less than or equal to this number.\n",
    "    learning_rate:\n",
    "        Defines the learning rate.\n",
    "        Used for reducing the gradient step.\n",
    "    border_count:\n",
    "        It specifies the number of splits for numerical features.\n",
    "        It is similar to the max_bin parameter.\n",
    "    depth:\n",
    "        Defines the depth of the trees.\n",
    "    random_seed:\n",
    "        This parameter is similar to the ‘random_state’ parameter we have seen previously.\n",
    "        It is an integer value to define the random seed for training.\n",
    "\n",
    "-----\n"
   ]
  },
  {
   "cell_type": "code",
   "execution_count": null,
   "metadata": {},
   "outputs": [],
   "source": []
  }
 ],
 "metadata": {
  "kernelspec": {
   "display_name": "Python 3",
   "language": "python",
   "name": "python3"
  },
  "language_info": {
   "codemirror_mode": {
    "name": "ipython",
    "version": 3
   },
   "file_extension": ".py",
   "mimetype": "text/x-python",
   "name": "python",
   "nbconvert_exporter": "python",
   "pygments_lexer": "ipython3",
   "version": "3.6.8"
  }
 },
 "nbformat": 4,
 "nbformat_minor": 2
}
