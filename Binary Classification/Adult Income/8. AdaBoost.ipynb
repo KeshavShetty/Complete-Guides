{
 "cells": [
  {
   "cell_type": "markdown",
   "metadata": {},
   "source": [
    "# 1 AdaBoost\n",
    "\n",
    "Adaptive boosting or AdaBoost is one of the simplest boosting algorithms. Usually, decision trees are used for modelling. Multiple sequential models are created, each correcting the errors from the last model. AdaBoost assigns weights to the observations which are incorrectly predicted and the subsequent model works to predict these values correctly.\n",
    "\n",
    "Below are the steps for performing the AdaBoost algorithm:\n",
    "\n",
    "    Initially, all observations in the dataset are given equal weights.\n",
    "    A model is built on a subset of data.\n",
    "    Using this model, predictions are made on the whole dataset.\n",
    "    Errors are calculated by comparing the predictions and actual values.\n",
    "    While creating the next model, higher weights are given to the data points which were predicted incorrectly.\n",
    "    Weights can be determined using the error value. For instance, higher the error more is the weight assigned to the observation.\n",
    "    This process is repeated until the error function does not change, or the maximum limit of the number of estimators is reached.\n",
    "_________"
   ]
  },
  {
   "cell_type": "markdown",
   "metadata": {},
   "source": [
    "# 1.1 Parameters\n",
    "\n",
    "    base_estimators:\n",
    "        It helps to specify the type of base estimator, that is, the machine learning algorithm to be used as base learner.\n",
    "    n_estimators:\n",
    "        It defines the number of base estimators.\n",
    "        The default value is 10, but you should keep a higher value to get better performance.\n",
    "    learning_rate:\n",
    "        This parameter controls the contribution of the estimators in the final combination.\n",
    "        There is a trade-off between learning_rate and n_estimators.\n",
    "    max_depth:\n",
    "        Defines the maximum depth of the individual estimator.\n",
    "        Tune this parameter for best performance.\n",
    "    n_jobs\n",
    "        Specifies the number of processors it is allowed to use.\n",
    "        Set value to -1 for maximum processors allowed.\n",
    "    random_state :\n",
    "        An integer value to specify the random data split.\n",
    "        A definite value of random_state will always produce same results if given with same parameters and training data.\n",
    "------------------\n"
   ]
  },
  {
   "cell_type": "code",
   "execution_count": null,
   "metadata": {},
   "outputs": [],
   "source": []
  }
 ],
 "metadata": {
  "kernelspec": {
   "display_name": "Python 3",
   "language": "python",
   "name": "python3"
  },
  "language_info": {
   "codemirror_mode": {
    "name": "ipython",
    "version": 3
   },
   "file_extension": ".py",
   "mimetype": "text/x-python",
   "name": "python",
   "nbconvert_exporter": "python",
   "pygments_lexer": "ipython3",
   "version": "3.6.8"
  }
 },
 "nbformat": 4,
 "nbformat_minor": 2
}
