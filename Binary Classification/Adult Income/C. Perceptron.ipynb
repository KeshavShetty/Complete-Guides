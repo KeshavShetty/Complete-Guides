{
 "cells": [
  {
   "cell_type": "markdown",
   "metadata": {},
   "source": [
    "# 1. Perceptron"
   ]
  },
  {
   "cell_type": "markdown",
   "metadata": {},
   "source": [
    "### A perceptron is a fundamental unit of the neural network which takes weighted inputs, process it and capable of performing binary classifications. "
   ]
  },
  {
   "cell_type": "markdown",
   "metadata": {},
   "source": [
    "In the perceptron model inputs can be real numbers unlike the Boolean inputs in MP Neuron Model. \n",
    "The output from the model will still be binary {0, 1}. The perceptron model takes the input x if the weighted sum of the inputs is greater than threshold b output will be 1 else output will be 0.\n"
   ]
  },
  {
   "cell_type": "code",
   "execution_count": 24,
   "metadata": {},
   "outputs": [],
   "source": [
    "# Load required libraries\n",
    "import numpy as np\n",
    "import pandas as pd\n",
    "\n",
    "import matplotlib.pyplot as plt\n",
    "import seaborn as sns\n",
    "\n",
    "from KUtils.eda import chartil\n",
    "from KUtils.common import utils as cutils\n",
    "\n",
    "from KUtils.common import utils\n",
    "from KUtils.eda import chartil\n",
    "from KUtils.eda import data_preparation as dp\n",
    "from KUtils.classifier import generic_classifier_utils as gcu\n",
    "\n",
    "from sklearn import metrics\n",
    "from sklearn.metrics import classification_report, confusion_matrix, accuracy_score, make_scorer, recall_score, precision_score\n",
    "\n",
    "from sklearn.model_selection import train_test_split\n",
    "from sklearn.linear_model import Perceptron"
   ]
  },
  {
   "cell_type": "code",
   "execution_count": 3,
   "metadata": {},
   "outputs": [],
   "source": [
    "adult_income_df = pd.read_csv('cleaned.csv')"
   ]
  },
  {
   "cell_type": "code",
   "execution_count": 5,
   "metadata": {},
   "outputs": [],
   "source": [
    "adult_income_df['target'] = adult_income_df['target'].map(\n",
    "    {' >50K':1, ' <=50K':0})"
   ]
  },
  {
   "cell_type": "code",
   "execution_count": 7,
   "metadata": {},
   "outputs": [],
   "source": [
    "adult_income_df['target'] = adult_income_df['target'].astype('category')\n"
   ]
  },
  {
   "cell_type": "code",
   "execution_count": 8,
   "metadata": {},
   "outputs": [
    {
     "data": {
      "text/html": [
       "<div>\n",
       "<style scoped>\n",
       "    .dataframe tbody tr th:only-of-type {\n",
       "        vertical-align: middle;\n",
       "    }\n",
       "\n",
       "    .dataframe tbody tr th {\n",
       "        vertical-align: top;\n",
       "    }\n",
       "\n",
       "    .dataframe thead th {\n",
       "        text-align: right;\n",
       "    }\n",
       "</style>\n",
       "<table border=\"1\" class=\"dataframe\">\n",
       "  <thead>\n",
       "    <tr style=\"text-align: right;\">\n",
       "      <th></th>\n",
       "      <th>age</th>\n",
       "      <th>workclass</th>\n",
       "      <th>fnlwgt</th>\n",
       "      <th>education</th>\n",
       "      <th>education-num</th>\n",
       "      <th>marital-status</th>\n",
       "      <th>occupation</th>\n",
       "      <th>relationship</th>\n",
       "      <th>race</th>\n",
       "      <th>sex</th>\n",
       "      <th>capital-gain</th>\n",
       "      <th>capital-loss</th>\n",
       "      <th>hours-per-week</th>\n",
       "      <th>native-country</th>\n",
       "      <th>target</th>\n",
       "    </tr>\n",
       "  </thead>\n",
       "  <tbody>\n",
       "    <tr>\n",
       "      <th>0</th>\n",
       "      <td>39</td>\n",
       "      <td>State-gov</td>\n",
       "      <td>11.258240</td>\n",
       "      <td>Bachelors</td>\n",
       "      <td>13</td>\n",
       "      <td>Never-married</td>\n",
       "      <td>Adm-clerical</td>\n",
       "      <td>Not-in-family</td>\n",
       "      <td>White</td>\n",
       "      <td>Male</td>\n",
       "      <td>2174</td>\n",
       "      <td>0</td>\n",
       "      <td>40</td>\n",
       "      <td>United-States</td>\n",
       "      <td>0</td>\n",
       "    </tr>\n",
       "    <tr>\n",
       "      <th>1</th>\n",
       "      <td>50</td>\n",
       "      <td>Self-emp-not-inc</td>\n",
       "      <td>11.330336</td>\n",
       "      <td>Bachelors</td>\n",
       "      <td>13</td>\n",
       "      <td>Married-civ-spouse</td>\n",
       "      <td>Exec-managerial</td>\n",
       "      <td>Husband</td>\n",
       "      <td>White</td>\n",
       "      <td>Male</td>\n",
       "      <td>0</td>\n",
       "      <td>0</td>\n",
       "      <td>13</td>\n",
       "      <td>United-States</td>\n",
       "      <td>0</td>\n",
       "    </tr>\n",
       "    <tr>\n",
       "      <th>2</th>\n",
       "      <td>38</td>\n",
       "      <td>Private</td>\n",
       "      <td>12.281393</td>\n",
       "      <td>HS-grad</td>\n",
       "      <td>9</td>\n",
       "      <td>Divorced</td>\n",
       "      <td>Handlers-cleaners</td>\n",
       "      <td>Not-in-family</td>\n",
       "      <td>White</td>\n",
       "      <td>Male</td>\n",
       "      <td>0</td>\n",
       "      <td>0</td>\n",
       "      <td>40</td>\n",
       "      <td>United-States</td>\n",
       "      <td>0</td>\n",
       "    </tr>\n",
       "    <tr>\n",
       "      <th>3</th>\n",
       "      <td>53</td>\n",
       "      <td>Private</td>\n",
       "      <td>12.366153</td>\n",
       "      <td>11th</td>\n",
       "      <td>7</td>\n",
       "      <td>Married-civ-spouse</td>\n",
       "      <td>Handlers-cleaners</td>\n",
       "      <td>Husband</td>\n",
       "      <td>Black</td>\n",
       "      <td>Male</td>\n",
       "      <td>0</td>\n",
       "      <td>0</td>\n",
       "      <td>40</td>\n",
       "      <td>United-States</td>\n",
       "      <td>0</td>\n",
       "    </tr>\n",
       "    <tr>\n",
       "      <th>4</th>\n",
       "      <td>28</td>\n",
       "      <td>Private</td>\n",
       "      <td>12.732011</td>\n",
       "      <td>Bachelors</td>\n",
       "      <td>13</td>\n",
       "      <td>Married-civ-spouse</td>\n",
       "      <td>Prof-specialty</td>\n",
       "      <td>Wife</td>\n",
       "      <td>Black</td>\n",
       "      <td>Female</td>\n",
       "      <td>0</td>\n",
       "      <td>0</td>\n",
       "      <td>40</td>\n",
       "      <td>non_usa</td>\n",
       "      <td>0</td>\n",
       "    </tr>\n",
       "  </tbody>\n",
       "</table>\n",
       "</div>"
      ],
      "text/plain": [
       "   age          workclass     fnlwgt   education  education-num  \\\n",
       "0   39          State-gov  11.258240   Bachelors             13   \n",
       "1   50   Self-emp-not-inc  11.330336   Bachelors             13   \n",
       "2   38            Private  12.281393     HS-grad              9   \n",
       "3   53            Private  12.366153        11th              7   \n",
       "4   28            Private  12.732011   Bachelors             13   \n",
       "\n",
       "        marital-status          occupation    relationship    race      sex  \\\n",
       "0        Never-married        Adm-clerical   Not-in-family   White     Male   \n",
       "1   Married-civ-spouse     Exec-managerial         Husband   White     Male   \n",
       "2             Divorced   Handlers-cleaners   Not-in-family   White     Male   \n",
       "3   Married-civ-spouse   Handlers-cleaners         Husband   Black     Male   \n",
       "4   Married-civ-spouse      Prof-specialty            Wife   Black   Female   \n",
       "\n",
       "   capital-gain  capital-loss  hours-per-week  native-country target  \n",
       "0          2174             0              40   United-States      0  \n",
       "1             0             0              13   United-States      0  \n",
       "2             0             0              40   United-States      0  \n",
       "3             0             0              40   United-States      0  \n",
       "4             0             0              40         non_usa      0  "
      ]
     },
     "execution_count": 8,
     "metadata": {},
     "output_type": "execute_result"
    }
   ],
   "source": [
    "adult_income_df.head()"
   ]
  },
  {
   "cell_type": "code",
   "execution_count": 19,
   "metadata": {},
   "outputs": [
    {
     "name": "stdout",
     "output_type": "stream",
     "text": [
      "workclass\n",
      "Replacing [ Without-pay] with 1\n",
      "Replacing [ Private] with 2\n",
      "Replacing [ State-gov] with 3\n",
      "Replacing [ Self-emp-not-inc] with 4\n",
      "Replacing [ Local-gov] with 5\n",
      "Replacing [ Federal-gov] with 6\n",
      "Replacing [ Self-emp-inc] with 7\n",
      "education\n",
      "Replacing [ Preschool] with 1\n",
      "Replacing [ 1st-4th] with 2\n",
      "Replacing [ 5th-6th] with 3\n",
      "Replacing [ 9th] with 4\n",
      "Replacing [ 11th] with 5\n",
      "Replacing [ 7th-8th] with 6\n",
      "Replacing [ 10th] with 7\n",
      "Replacing [ 12th] with 8\n",
      "Replacing [ HS-grad] with 9\n",
      "Replacing [ Some-college] with 10\n",
      "Replacing [ Assoc-acdm] with 11\n",
      "Replacing [ Assoc-voc] with 12\n",
      "Replacing [ Bachelors] with 13\n",
      "Replacing [ Masters] with 14\n",
      "Replacing [ Doctorate] with 15\n",
      "Replacing [ Prof-school] with 16\n",
      "marital_status\n",
      "Replacing [ Never-married] with 1\n",
      "Replacing [ Separated] with 2\n",
      "Replacing [ Married-spouse-absent] with 3\n",
      "Replacing [ Widowed] with 4\n",
      "Replacing [ Divorced] with 5\n",
      "Replacing [ Married-civ-spouse] with 6\n",
      "Replacing [ Married-AF-spouse] with 7\n",
      "occupation\n",
      "Replacing [ Priv-house-serv] with 1\n",
      "Replacing [ Other-service] with 2\n",
      "Replacing [ Handlers-cleaners] with 3\n",
      "Replacing [ Armed-Forces] with 4\n",
      "Replacing [ Farming-fishing] with 5\n",
      "Replacing [ Machine-op-inspct] with 6\n",
      "Replacing [ Adm-clerical] with 7\n",
      "Replacing [ Transport-moving] with 8\n",
      "Replacing [ Craft-repair] with 9\n",
      "Replacing [ Sales] with 10\n",
      "Replacing [ Tech-support] with 11\n",
      "Replacing [ Protective-serv] with 12\n",
      "Replacing [ Prof-specialty] with 13\n",
      "Replacing [ Exec-managerial] with 14\n",
      "relationship\n",
      "Replacing [ Own-child] with 1\n",
      "Replacing [ Other-relative] with 2\n",
      "Replacing [ Unmarried] with 3\n",
      "Replacing [ Not-in-family] with 4\n",
      "Replacing [ Husband] with 5\n",
      "Replacing [ Wife] with 6\n",
      "race\n",
      "Replacing [ Other] with 1\n",
      "Replacing [ Amer-Indian-Eskimo] with 2\n",
      "Replacing [ Black] with 3\n",
      "Replacing [ White] with 4\n",
      "Replacing [ Asian-Pac-Islander] with 5\n",
      "sex\n",
      "Replacing [ Female] with 1\n",
      "Replacing [ Male] with 2\n",
      "native_country\n",
      "Replacing [non_usa] with 1\n",
      "Replacing [ United-States] with 2\n"
     ]
    }
   ],
   "source": [
    "gcu.kesh_label_encoder(adult_income_df, 'target', verbose=True)"
   ]
  },
  {
   "cell_type": "code",
   "execution_count": 20,
   "metadata": {},
   "outputs": [],
   "source": [
    "X = adult_income_df.drop('target', axis=1)\n",
    "y = adult_income_df['target'] \n",
    "\n",
    "X_train, X_test, y_train, y_test = train_test_split(X, y, train_size=0.7, test_size=0.3, random_state=43)"
   ]
  },
  {
   "cell_type": "code",
   "execution_count": 30,
   "metadata": {},
   "outputs": [
    {
     "data": {
      "text/plain": [
       "Perceptron(alpha=0.0001, class_weight=None, early_stopping=False, eta0=1.0,\n",
       "      fit_intercept=True, max_iter=None, n_iter=None, n_iter_no_change=5,\n",
       "      n_jobs=None, penalty=None, random_state=0, shuffle=True, tol=0.001,\n",
       "      validation_fraction=0.1, verbose=0, warm_start=False)"
      ]
     },
     "execution_count": 30,
     "metadata": {},
     "output_type": "execute_result"
    }
   ],
   "source": [
    "clf = Perceptron(tol=0.001, random_state=0)\n",
    "clf.fit(X_train, y_train) "
   ]
  },
  {
   "cell_type": "code",
   "execution_count": 31,
   "metadata": {},
   "outputs": [
    {
     "name": "stdout",
     "output_type": "stream",
     "text": [
      "              precision    recall  f1-score   support\n",
      "\n",
      "           0       0.82      0.90      0.86      6972\n",
      "           1       0.55      0.40      0.46      2244\n",
      "\n",
      "   micro avg       0.77      0.77      0.77      9216\n",
      "   macro avg       0.69      0.65      0.66      9216\n",
      "weighted avg       0.76      0.77      0.76      9216\n",
      "\n"
     ]
    }
   ],
   "source": [
    "# Making predictions\n",
    "y_pred_default = clf.predict(X_test)\n",
    "\n",
    "# Printing classification report\n",
    "print(classification_report(y_test, y_pred_default))"
   ]
  },
  {
   "cell_type": "code",
   "execution_count": 32,
   "metadata": {},
   "outputs": [
    {
     "name": "stdout",
     "output_type": "stream",
     "text": [
      "Accuracy 0.774, \n",
      "Sensitivity 0.396, \n",
      "Specificity 0.895, \n",
      "Precision 0.548, \n",
      "Recall 0.396, \n",
      "f1_score 0.460, \n",
      "roc_auc 0.646\n"
     ]
    }
   ],
   "source": [
    "# Accuracy, precision, recall and f1 score\n",
    "local_confusion_matrix = metrics.confusion_matrix(y_test, y_pred_default )\n",
    "\n",
    "accuracy = metrics.accuracy_score(y_test, y_pred_default)\n",
    "precision = metrics.precision_score(y_test, y_pred_default)\n",
    "recall = metrics.recall_score(y_test, y_pred_default)\n",
    "f1_score = metrics.f1_score(y_test, y_pred_default)\n",
    "roc_auc = metrics.roc_auc_score(y_test, y_pred_default)\n",
    "sensitivity = recall\n",
    "specificity =  local_confusion_matrix[0,0]/(local_confusion_matrix[0,0]+local_confusion_matrix[0,1])\n",
    "print(\"Accuracy {0:.3f}, \\nSensitivity {1:.3f}, \\nSpecificity {2:.3f}, \\nPrecision {3:.3f}, \\nRecall {4:.3f}, \\nf1_score {5:.3f}, \\nroc_auc {6:.3f}\".format(\n",
    "    accuracy, sensitivity,specificity, precision,recall,f1_score,roc_auc))"
   ]
  },
  {
   "cell_type": "markdown",
   "metadata": {},
   "source": [
    "# Hyper paremeter tuning \n",
    "Refer https://scikit-learn.org/stable/modules/generated/sklearn.linear_model.Perceptron.html"
   ]
  },
  {
   "cell_type": "code",
   "execution_count": 36,
   "metadata": {},
   "outputs": [
    {
     "name": "stdout",
     "output_type": "stream",
     "text": [
      "Fitting 10 folds for each of 3 candidates, totalling 30 fits\n"
     ]
    },
    {
     "name": "stderr",
     "output_type": "stream",
     "text": [
      "[Parallel(n_jobs=1)]: Using backend SequentialBackend with 1 concurrent workers.\n",
      "[Parallel(n_jobs=1)]: Done  30 out of  30 | elapsed:    1.2s finished\n"
     ]
    },
    {
     "data": {
      "image/png": "[encoded data removed]",
      "text/plain": [
       "<Figure size 936x576 with 1 Axes>"
      ]
     },
     "metadata": {
      "needs_background": "light"
     },
     "output_type": "display_data"
    },
    {
     "name": "stdout",
     "output_type": "stream",
     "text": [
      "Best score:  0.695446310736408\n",
      "Best Estimator:  Perceptron(alpha=0.0001, class_weight=None, early_stopping=False, eta0=1.0,\n",
      "      fit_intercept=True, max_iter=None, n_iter=None, n_iter_no_change=5,\n",
      "      n_jobs=None, penalty=None, random_state=42, shuffle=True, tol=0.001,\n",
      "      validation_fraction=0.1, verbose=0, warm_start=False)\n",
      "Best Params:  {'tol': 0.001}\n"
     ]
    }
   ],
   "source": [
    "scores = gcu.single_hyperparameter_multiple_scoring_tuning(X_train, y_train,\n",
    "                                                cv_folds=10, \n",
    "                                                hyper_parameter_name='tol',\n",
    "                                                hyper_parameter_range =  [0.001, 0.01, 0.1],\n",
    "                                                classifier_algo= Perceptron(random_state=42))"
   ]
  },
  {
   "cell_type": "markdown",
   "metadata": {},
   "source": [
    "# Not complete. To detailed study"
   ]
  },
  {
   "cell_type": "code",
   "execution_count": null,
   "metadata": {},
   "outputs": [],
   "source": []
  }
 ],
 "metadata": {
  "kernelspec": {
   "display_name": "Python 3",
   "language": "python",
   "name": "python3"
  },
  "language_info": {
   "codemirror_mode": {
    "name": "ipython",
    "version": 3
   },
   "file_extension": ".py",
   "mimetype": "text/x-python",
   "name": "python",
   "nbconvert_exporter": "python",
   "pygments_lexer": "ipython3",
   "version": "3.6.8"
  }
 },
 "nbformat": 4,
 "nbformat_minor": 2
}
